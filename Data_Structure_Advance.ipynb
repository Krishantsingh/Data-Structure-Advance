{
  "nbformat": 4,
  "nbformat_minor": 0,
  "metadata": {
    "colab": {
      "provenance": [],
      "authorship_tag": "ABX9TyOVrNdWNQRQi5bz9H8vzWeG",
      "include_colab_link": true
    },
    "kernelspec": {
      "name": "python3",
      "display_name": "Python 3"
    },
    "language_info": {
      "name": "python"
    }
  },
  "cells": [
    {
      "cell_type": "markdown",
      "metadata": {
        "id": "view-in-github",
        "colab_type": "text"
      },
      "source": [
        "<a href=\"https://colab.research.google.com/github/Krishantsingh/Data-Structure-Advance/blob/main/Data_Structure_Advance.ipynb\" target=\"_parent\"><img src=\"https://colab.research.google.com/assets/colab-badge.svg\" alt=\"Open In Colab\"/></a>"
      ]
    },
    {
      "cell_type": "markdown",
      "source": [
        "1. Write a code to reverse a string."
      ],
      "metadata": {
        "id": "qK4-x9xJLUBZ"
      }
    },
    {
      "cell_type": "code",
      "execution_count": null,
      "metadata": {
        "id": "JrSe2sKO5ul1",
        "colab": {
          "base_uri": "https://localhost:8080/",
          "height": 36
        },
        "outputId": "cdf5276e-6439-4756-d226-8430f95c17e7"
      },
      "outputs": [
        {
          "output_type": "execute_result",
          "data": {
            "text/plain": [
              "'maR'"
            ],
            "application/vnd.google.colaboratory.intrinsic+json": {
              "type": "string"
            }
          },
          "metadata": {},
          "execution_count": 44
        }
      ],
      "source": [
        "string1=\"Ram\"\n",
        "string1[::-1]"
      ]
    },
    {
      "cell_type": "markdown",
      "source": [
        "2. Write a code to count the number of vowels in a string."
      ],
      "metadata": {
        "id": "BHf3Aw1vEnDK"
      }
    },
    {
      "cell_type": "code",
      "source": [
        "def count_vowels(input_string):\n",
        "    vowels = {'a', 'e', 'i', 'o', 'u', 'A', 'E', 'I', 'O', 'U'}\n",
        "    return sum(1 for char in input_string if char in vowels)"
      ],
      "metadata": {
        "id": "hwI0dtsW6ApR"
      },
      "execution_count": null,
      "outputs": []
    },
    {
      "cell_type": "code",
      "source": [
        "example_string = \"I am a rider\"\n",
        "vowel_count = count_vowels(example_string)\n",
        "print(f\"Number of vowels in '{example_string}': {vowel_count}\")"
      ],
      "metadata": {
        "colab": {
          "base_uri": "https://localhost:8080/"
        },
        "id": "gNcM0na0EwtY",
        "outputId": "b990271a-fc79-4527-a354-d400a76ceb3d"
      },
      "execution_count": null,
      "outputs": [
        {
          "output_type": "stream",
          "name": "stdout",
          "text": [
            "Number of vowels in 'I am a rider': 5\n"
          ]
        }
      ]
    },
    {
      "cell_type": "markdown",
      "source": [
        "3.  Write a code to check if a given string is a palindrome or not."
      ],
      "metadata": {
        "id": "7KG3NfF2E-VX"
      }
    },
    {
      "cell_type": "code",
      "source": [
        "s=\"racecar\"\n",
        "if s==s[::-1]:\n",
        "  print(\"Palindrone string\")\n",
        "else:\n",
        "  print(\"Not a palindrome string\")"
      ],
      "metadata": {
        "colab": {
          "base_uri": "https://localhost:8080/"
        },
        "id": "KY2gCYlv67na",
        "outputId": "7ed1b417-c547-4908-bf2a-72b3f0ca86e7"
      },
      "execution_count": null,
      "outputs": [
        {
          "output_type": "stream",
          "name": "stdout",
          "text": [
            "Palindrone string\n"
          ]
        }
      ]
    },
    {
      "cell_type": "markdown",
      "source": [
        "4. Write a code to check if two given strings are anagrams of each other."
      ],
      "metadata": {
        "id": "Z5kcWrK9FI-h"
      }
    },
    {
      "cell_type": "code",
      "source": [
        "s=\"listen\"\n",
        "k=\"silent\"\n",
        "if sorted(s)==sorted(k):\n",
        "  print(\"The given strings are Anagrams\")\n",
        "else:\n",
        "  print(\"The given strings are not Anagrams\")\n"
      ],
      "metadata": {
        "colab": {
          "base_uri": "https://localhost:8080/"
        },
        "id": "2a6QdLoD9qp9",
        "outputId": "2e8343aa-4a86-46f5-899b-66f3c46b8e9e"
      },
      "execution_count": null,
      "outputs": [
        {
          "output_type": "stream",
          "name": "stdout",
          "text": [
            "The given strings are Anagrams\n"
          ]
        }
      ]
    },
    {
      "cell_type": "markdown",
      "source": [
        " 5. Write a code to find all occurrences of a given substring within another string."
      ],
      "metadata": {
        "id": "SaimU43zFUQI"
      }
    },
    {
      "cell_type": "code",
      "source": [
        "def find_all_occurrences(text, substring):\n",
        "    occurrences = []\n",
        "    start = 0\n",
        "\n",
        "    while start < len(text):\n",
        "        index = text.find(substring, start)\n",
        "        if index == -1:\n",
        "            break\n",
        "        occurrences.append(index)\n",
        "        start = index + 1\n",
        "\n",
        "    return occurrences"
      ],
      "metadata": {
        "id": "H5s1JQSk_Qvl"
      },
      "execution_count": null,
      "outputs": []
    },
    {
      "cell_type": "code",
      "source": [
        "text = \"aabracadabra\"\n",
        "substring = \"abra\"\n",
        "result = find_all_occurrences(text, substring)\n",
        "print(f\"Occurrences of '{substring}' in '{text}': {result}\")"
      ],
      "metadata": {
        "colab": {
          "base_uri": "https://localhost:8080/"
        },
        "id": "EPUnfb6lFp6Q",
        "outputId": "c336128e-9f57-49f6-83f1-68dc0a50b19d"
      },
      "execution_count": null,
      "outputs": [
        {
          "output_type": "stream",
          "name": "stdout",
          "text": [
            "Occurrences of 'abra' in 'aabracadabra': [1, 8]\n"
          ]
        }
      ]
    },
    {
      "cell_type": "markdown",
      "source": [
        "6. Write a code to perform basic string compression using the counts of repeated characters."
      ],
      "metadata": {
        "id": "MawwBc0EF_8Y"
      }
    },
    {
      "cell_type": "code",
      "source": [
        "def compress_string(input_string):\n",
        "    if not input_string:\n",
        "        return \"\"\n",
        "\n",
        "    compressed = []\n",
        "    count = 1\n",
        "\n",
        "    for i in range(1, len(input_string)):\n",
        "        if input_string[i] == input_string[i - 1]:\n",
        "            count += 1\n",
        "        else:\n",
        "            compressed.append(input_string[i - 1] + str(count))\n",
        "            count = 1\n",
        "\n",
        "\n",
        "    compressed.append(input_string[-1] + str(count))\n",
        "\n",
        "    compressed_string = ''.join(compressed)\n",
        "\n",
        "    return compressed_string if len(compressed_string) < len(input_string) else input_string\n"
      ],
      "metadata": {
        "id": "DhnZUxdlAVJe"
      },
      "execution_count": null,
      "outputs": []
    },
    {
      "cell_type": "code",
      "source": [
        "example_string = \"aaabcccccaaa\"\n",
        "compressed = compress_string(example_string)\n",
        "print(f\"Compressed string: {compressed}\")"
      ],
      "metadata": {
        "colab": {
          "base_uri": "https://localhost:8080/"
        },
        "id": "ggQLYT1RHSXQ",
        "outputId": "2dffa71f-3995-41a3-c30c-6a779bfc943e"
      },
      "execution_count": null,
      "outputs": [
        {
          "output_type": "stream",
          "name": "stdout",
          "text": [
            "Compressed string: a3b1c5a3\n"
          ]
        }
      ]
    },
    {
      "cell_type": "markdown",
      "source": [
        "7. Write a code to determine if a string has all unique characters."
      ],
      "metadata": {
        "id": "kp4m7WytHbyv"
      }
    },
    {
      "cell_type": "code",
      "source": [
        "s=\"sita\"\n",
        "if len(s)==len(set(s)):\n",
        "  print(\"The given string has all unique characters\")\n",
        "else:\n",
        "  print(\"The given string has not all unique characters\")\n"
      ],
      "metadata": {
        "colab": {
          "base_uri": "https://localhost:8080/"
        },
        "id": "FAoSPRcKBiFW",
        "outputId": "01fe6281-1a81-4ac2-b228-14a376b050ae"
      },
      "execution_count": null,
      "outputs": [
        {
          "output_type": "stream",
          "name": "stdout",
          "text": [
            "The given string has all unique characters\n"
          ]
        }
      ]
    },
    {
      "cell_type": "markdown",
      "source": [
        "8. Write a code to convert a given string to uppercase or lowercase."
      ],
      "metadata": {
        "id": "cm-ww86-HgIv"
      }
    },
    {
      "cell_type": "code",
      "source": [
        "s=\"Ram\"\n",
        "s.upper()"
      ],
      "metadata": {
        "colab": {
          "base_uri": "https://localhost:8080/",
          "height": 35
        },
        "id": "hKo_97-hCfOw",
        "outputId": "7d5d136a-c584-437f-b8b2-83a23a8bee4d"
      },
      "execution_count": null,
      "outputs": [
        {
          "output_type": "execute_result",
          "data": {
            "text/plain": [
              "'RAM'"
            ],
            "application/vnd.google.colaboratory.intrinsic+json": {
              "type": "string"
            }
          },
          "metadata": {},
          "execution_count": 16
        }
      ]
    },
    {
      "cell_type": "code",
      "source": [
        "t=\"SITA\"\n",
        "t.lower()"
      ],
      "metadata": {
        "colab": {
          "base_uri": "https://localhost:8080/",
          "height": 35
        },
        "id": "GhL85FxZDPnD",
        "outputId": "9d3f886b-48c5-451f-9ca7-f4a7b88cb5aa"
      },
      "execution_count": null,
      "outputs": [
        {
          "output_type": "execute_result",
          "data": {
            "text/plain": [
              "'sita'"
            ],
            "application/vnd.google.colaboratory.intrinsic+json": {
              "type": "string"
            }
          },
          "metadata": {},
          "execution_count": 17
        }
      ]
    },
    {
      "cell_type": "markdown",
      "source": [
        "9. Write a code to count the number of words in a string."
      ],
      "metadata": {
        "id": "uXcYEaOCHnMg"
      }
    },
    {
      "cell_type": "code",
      "source": [
        "s=\"sita studies in class 8\"\n",
        "len(s.split())"
      ],
      "metadata": {
        "colab": {
          "base_uri": "https://localhost:8080/"
        },
        "id": "iVVCF1JhDhHB",
        "outputId": "6703f375-a7d1-4498-b674-2c27394f4b55"
      },
      "execution_count": null,
      "outputs": [
        {
          "output_type": "execute_result",
          "data": {
            "text/plain": [
              "5"
            ]
          },
          "metadata": {},
          "execution_count": 18
        }
      ]
    },
    {
      "cell_type": "markdown",
      "source": [
        "10. Write a code to concatenate two strings without using the + operator."
      ],
      "metadata": {
        "id": "h_VIsejJHqI_"
      }
    },
    {
      "cell_type": "code",
      "source": [
        "s=\"ram\"\n",
        "t=\"sita\"\n",
        "(\"\".join([s,t]))"
      ],
      "metadata": {
        "colab": {
          "base_uri": "https://localhost:8080/",
          "height": 35
        },
        "id": "Yt9JH2EmEDCK",
        "outputId": "5be55851-1893-4f74-9702-e8c7124666a2"
      },
      "execution_count": null,
      "outputs": [
        {
          "output_type": "execute_result",
          "data": {
            "text/plain": [
              "'ramsita'"
            ],
            "application/vnd.google.colaboratory.intrinsic+json": {
              "type": "string"
            }
          },
          "metadata": {},
          "execution_count": 32
        }
      ]
    },
    {
      "cell_type": "markdown",
      "source": [
        " 11. Write a code to remove all occurrences of a specific element from a list."
      ],
      "metadata": {
        "id": "SF0gwcduHtSo"
      }
    },
    {
      "cell_type": "code",
      "source": [
        "l=[1,2,3,4,5,6]\n",
        "l.remove(2)\n",
        "l\n",
        "\n"
      ],
      "metadata": {
        "id": "qWt-PEQrFA2E",
        "colab": {
          "base_uri": "https://localhost:8080/"
        },
        "outputId": "a61a47c8-2738-46ce-e9c9-bbe5ccdf3a6d"
      },
      "execution_count": null,
      "outputs": [
        {
          "output_type": "execute_result",
          "data": {
            "text/plain": [
              "[1, 3, 4, 5, 6]"
            ]
          },
          "metadata": {},
          "execution_count": 34
        }
      ]
    },
    {
      "cell_type": "markdown",
      "source": [
        "12. Implement a code to find the second largest number in a given list of integers."
      ],
      "metadata": {
        "id": "07yrOeUGHxeg"
      }
    },
    {
      "cell_type": "code",
      "source": [
        "l=[1,4,6,10,9,11,20]\n",
        "l.sort()\n",
        "l[-2]\n"
      ],
      "metadata": {
        "colab": {
          "base_uri": "https://localhost:8080/"
        },
        "id": "y7VxLjjmIhHF",
        "outputId": "a0a064d3-5afd-4dad-98c7-7cfeddc9bf25"
      },
      "execution_count": null,
      "outputs": [
        {
          "output_type": "execute_result",
          "data": {
            "text/plain": [
              "11"
            ]
          },
          "metadata": {},
          "execution_count": 41
        }
      ]
    },
    {
      "cell_type": "markdown",
      "source": [
        "13. Create a code to count the occurrences of each element in a list and return a dictionary with elements as keys and their counts as values."
      ],
      "metadata": {
        "id": "ibzwlMOBH40N"
      }
    },
    {
      "cell_type": "code",
      "source": [
        "def count_elements(input_list):\n",
        "    element_count = {}\n",
        "    for element in input_list:\n",
        "        if element in element_count:\n",
        "            element_count[element] += 1\n",
        "        else:\n",
        "            element_count[element] = 1\n",
        "    return element_count\n"
      ],
      "metadata": {
        "id": "57RLr5dzJOYP"
      },
      "execution_count": null,
      "outputs": []
    },
    {
      "cell_type": "code",
      "source": [
        "example_list = [\"apple\", \"banana\", \"apple\", \"orange\", \"banana\", \"apple\"]\n",
        "counted = count_elements(example_list)\n",
        "print(f\"Element counts: {counted}\")"
      ],
      "metadata": {
        "colab": {
          "base_uri": "https://localhost:8080/"
        },
        "id": "kia9CHhmIH_B",
        "outputId": "4e4e694c-d90e-4953-abf8-0c2b217cb58b"
      },
      "execution_count": null,
      "outputs": [
        {
          "output_type": "stream",
          "name": "stdout",
          "text": [
            "Element counts: {'apple': 3, 'banana': 2, 'orange': 1}\n"
          ]
        }
      ]
    },
    {
      "cell_type": "markdown",
      "source": [
        "14. Write a code to reverse a list in-place without using any built-in reverse functions."
      ],
      "metadata": {
        "id": "-mnyGHMeINJu"
      }
    },
    {
      "cell_type": "code",
      "source": [
        "def reverse_list_inplace(input_list):\n",
        "    left = 0\n",
        "    right = len(input_list) - 1\n",
        "\n",
        "    while left < right:\n",
        "        input_list[left], input_list[right] = input_list[right], input_list[left]\n",
        "        left += 1\n",
        "        right -= 1\n",
        "\n",
        "example_list = [1, 2, 3, 4, 5]\n",
        "reverse_list_inplace(example_list)\n",
        "print(f\"Reversed list: {example_list}\")\n"
      ],
      "metadata": {
        "colab": {
          "base_uri": "https://localhost:8080/"
        },
        "id": "A3Utuv8dTSsm",
        "outputId": "a59264d6-aa2f-44c1-ee1e-03949b6beff3"
      },
      "execution_count": null,
      "outputs": [
        {
          "output_type": "stream",
          "name": "stdout",
          "text": [
            "Reversed list: [5, 4, 3, 2, 1]\n"
          ]
        }
      ]
    },
    {
      "cell_type": "markdown",
      "source": [
        "15. Implement a code to find and remove duplicates from a list while preserving the original order of elements."
      ],
      "metadata": {
        "id": "khCrM2CUIcbe"
      }
    },
    {
      "cell_type": "code",
      "source": [
        "def remove_duplicates(input_list):\n",
        "    seen = set()\n",
        "    result = []\n",
        "\n",
        "    for item in input_list:\n",
        "        if item not in seen:\n",
        "            result.append(item)\n",
        "            seen.add(item)\n",
        "\n",
        "    return result"
      ],
      "metadata": {
        "id": "W6zqqVS_dp9U"
      },
      "execution_count": null,
      "outputs": []
    },
    {
      "cell_type": "code",
      "source": [
        "example_list = [\"apple\", \"banana\", \"apple\", \"orange\", \"banana\", \"grape\"]\n",
        "unique_list = remove_duplicates(example_list)\n",
        "print(f\"List after removing duplicates: {unique_list}\")"
      ],
      "metadata": {
        "colab": {
          "base_uri": "https://localhost:8080/"
        },
        "id": "rGyGPsOGInoF",
        "outputId": "d319d9cb-3ed9-42c1-cbec-7b3aa0f9b411"
      },
      "execution_count": null,
      "outputs": [
        {
          "output_type": "stream",
          "name": "stdout",
          "text": [
            "List after removing duplicates: ['apple', 'banana', 'orange', 'grape']\n"
          ]
        }
      ]
    },
    {
      "cell_type": "markdown",
      "source": [
        "16. Create a code to check if a given list is sorted (either in ascending or descending order) or not."
      ],
      "metadata": {
        "id": "JWAdG1Q1IrN-"
      }
    },
    {
      "cell_type": "code",
      "source": [
        "l=[1,2,3,4,5]\n",
        "if l==sorted(l) or l==sorted(l,reverse=true):\n",
        "  print(\"The given list is sorted in either ascending or descending orfder\")\n",
        "else:\n",
        "    print(\"The given list is not sorted\")"
      ],
      "metadata": {
        "colab": {
          "base_uri": "https://localhost:8080/"
        },
        "id": "-q91_-LD6f8B",
        "outputId": "6fc97444-b229-4657-f75b-928e513bc2a1"
      },
      "execution_count": null,
      "outputs": [
        {
          "output_type": "stream",
          "name": "stdout",
          "text": [
            "The given list is sorted in either ascending or descending orfder\n"
          ]
        }
      ]
    },
    {
      "cell_type": "markdown",
      "source": [
        "17. Write a code to merge two sorted lists into a single sorted list."
      ],
      "metadata": {
        "id": "4edBkJc3Iu9e"
      }
    },
    {
      "cell_type": "code",
      "source": [
        "l1=[1,2,3,4,5]\n",
        "l2=[6,7,8,9]\n",
        "l1.extend(l2)\n",
        "l1.sort()\n",
        "l1\n"
      ],
      "metadata": {
        "colab": {
          "base_uri": "https://localhost:8080/"
        },
        "id": "QXg-Tsvx70Zg",
        "outputId": "84710a98-d1c2-41c1-c093-a4262842ef7f"
      },
      "execution_count": null,
      "outputs": [
        {
          "output_type": "execute_result",
          "data": {
            "text/plain": [
              "[1, 2, 3, 4, 5, 6, 7, 8, 9]"
            ]
          },
          "metadata": {},
          "execution_count": 31
        }
      ]
    },
    {
      "cell_type": "markdown",
      "source": [
        "18. Implement a code to find the intersection of two given lists."
      ],
      "metadata": {
        "id": "ybUwuQSgIya9"
      }
    },
    {
      "cell_type": "code",
      "source": [
        "l1=[1,2,3,4,5,6]\n",
        "l2=[4,5,6,7,8,9]\n",
        "set(l1).intersection(l2)"
      ],
      "metadata": {
        "colab": {
          "base_uri": "https://localhost:8080/"
        },
        "id": "wiFxT5u38iXG",
        "outputId": "607d0822-5e09-4f2b-bbcd-3e0bab6dbb59"
      },
      "execution_count": null,
      "outputs": [
        {
          "output_type": "execute_result",
          "data": {
            "text/plain": [
              "{4, 5, 6}"
            ]
          },
          "metadata": {},
          "execution_count": 34
        }
      ]
    },
    {
      "cell_type": "markdown",
      "source": [
        "19. Create a code to find the union of two lists without duplicates."
      ],
      "metadata": {
        "id": "Sw25-esYI9L9"
      }
    },
    {
      "cell_type": "code",
      "source": [
        "l1=[1,2,3,4,5,6,7]\n",
        "l2=[4,5,6,7,8,9]\n",
        "set(l1).union(l2)"
      ],
      "metadata": {
        "colab": {
          "base_uri": "https://localhost:8080/"
        },
        "id": "y12d28SO9Gg9",
        "outputId": "3ef34f8e-caaf-421c-9fa5-6c8bbf55a6e3"
      },
      "execution_count": null,
      "outputs": [
        {
          "output_type": "execute_result",
          "data": {
            "text/plain": [
              "{1, 2, 3, 4, 5, 6, 7, 8, 9}"
            ]
          },
          "metadata": {},
          "execution_count": 35
        }
      ]
    },
    {
      "cell_type": "markdown",
      "source": [
        "20. Write a code to shuffle a given list randomly without using any built-in shuffle functions."
      ],
      "metadata": {
        "id": "e-y_qqujI_22"
      }
    },
    {
      "cell_type": "code",
      "source": [
        "import random\n",
        "l=[1,2,3,4,5,6,7]\n",
        "random.shuffle(l)\n",
        "l"
      ],
      "metadata": {
        "colab": {
          "base_uri": "https://localhost:8080/"
        },
        "id": "58dQkD1I9-78",
        "outputId": "dfc666d5-77e9-4637-cd04-8a53c6988fc5"
      },
      "execution_count": null,
      "outputs": [
        {
          "output_type": "execute_result",
          "data": {
            "text/plain": [
              "[1, 7, 5, 6, 2, 3, 4]"
            ]
          },
          "metadata": {},
          "execution_count": 36
        }
      ]
    },
    {
      "cell_type": "markdown",
      "source": [
        "21. Write a code that takes two tuples as input and returns a new tuple containing elements that are common to both input tuple."
      ],
      "metadata": {
        "id": "BOz_ue4bJC78"
      }
    },
    {
      "cell_type": "code",
      "source": [
        "t1=(1,2,3,4)\n",
        "t2=(3,4,5,6,7)\n",
        "tuple(set(t1).intersection(t2))"
      ],
      "metadata": {
        "colab": {
          "base_uri": "https://localhost:8080/"
        },
        "id": "ygU5WV2e-gTy",
        "outputId": "9db4b668-c6de-40f7-cdc6-9dadddbb4a4e"
      },
      "execution_count": null,
      "outputs": [
        {
          "output_type": "execute_result",
          "data": {
            "text/plain": [
              "(3, 4)"
            ]
          },
          "metadata": {},
          "execution_count": 37
        }
      ]
    },
    {
      "cell_type": "markdown",
      "source": [
        " 22. Create a code that prompts the user to enter two sets of integers separated by commas. Then, print the intersection of these two sets."
      ],
      "metadata": {
        "id": "wNrJmp04JHLl"
      }
    },
    {
      "cell_type": "code",
      "source": [
        "s1=input(\"Enter the first set of integers separated by commas:\")\n",
        "s2=input(\"Enter the second set of integers separated by commas:\")\n",
        "set(set(s1).intersection(s2))"
      ],
      "metadata": {
        "colab": {
          "base_uri": "https://localhost:8080/"
        },
        "id": "iIGK7b5NASE-",
        "outputId": "25feb328-3525-41d7-faf5-4cc0123de74f"
      },
      "execution_count": null,
      "outputs": [
        {
          "name": "stdout",
          "output_type": "stream",
          "text": [
            "Enter the first set of integers separated by commas:{1,2,3,4,5}\n",
            "Enter the second set of integers separated by commas:{2,3,4,5,6,7}\n"
          ]
        },
        {
          "output_type": "execute_result",
          "data": {
            "text/plain": [
              "{',', '2', '3', '4', '5', '{', '}'}"
            ]
          },
          "metadata": {},
          "execution_count": 39
        }
      ]
    },
    {
      "cell_type": "markdown",
      "source": [
        "23. Write a code to concatenate two tuples. The function should take two tuples as input and return a new tuple containing elements from both input tuples."
      ],
      "metadata": {
        "id": "AFF2ZRl-JkbN"
      }
    },
    {
      "cell_type": "code",
      "source": [
        "t1=input(\"enter the first tuple:\")\n",
        "t2=input(\"enter the second tuple:\")\n",
        "tuple(set(t1).union(t2))"
      ],
      "metadata": {
        "colab": {
          "base_uri": "https://localhost:8080/"
        },
        "id": "dUaQI2FhCScE",
        "outputId": "108d765f-6c9f-473e-ab52-938234b7ea78"
      },
      "execution_count": null,
      "outputs": [
        {
          "name": "stdout",
          "output_type": "stream",
          "text": [
            "enter the first tuple:(1,2,3,4)\n",
            "enter the second tuple:(2,3,4,5)\n"
          ]
        },
        {
          "output_type": "execute_result",
          "data": {
            "text/plain": [
              "(',', '1', '(', '4', '3', ')', '2', '5')"
            ]
          },
          "metadata": {},
          "execution_count": 40
        }
      ]
    },
    {
      "cell_type": "markdown",
      "source": [
        "24. Develop a code that prompts the user to input two sets of strings. Then, print the elements that are present in the first set but not in the second set."
      ],
      "metadata": {
        "id": "junQXiTzJzKo"
      }
    },
    {
      "cell_type": "code",
      "source": [
        "s1=set(input(\"Enter the first set of strings separated by commas:\"))\n",
        "s2=set(input(\"Enter the second set of strings separated by commas:\"))\n",
        "difference=s1-s2\n",
        "print(\"Elements in the first set but not in the second set:\")\n",
        "print(difference if difference else \"No elements found.\")"
      ],
      "metadata": {
        "colab": {
          "base_uri": "https://localhost:8080/"
        },
        "id": "rj0vDvPHGpGD",
        "outputId": "56f4c158-ddef-4886-f8e7-83c8858c73be"
      },
      "execution_count": null,
      "outputs": [
        {
          "output_type": "stream",
          "name": "stdout",
          "text": [
            "Enter the first set of strings separated by commas:{\"ran\",\"shyam\"}\n",
            "Enter the second set of strings separated by commas:{\"Gita\",\"Sita\"}\n",
            "Elements in the first set but not in the second set:\n",
            "{'y', 'm', 'h', 'r', 's', 'n'}\n"
          ]
        }
      ]
    },
    {
      "cell_type": "markdown",
      "source": [
        "25. Create a code that takes a tuple and two integers as input. The function should return a new tuple containing elements from the original tuple within the specified range of indices."
      ],
      "metadata": {
        "id": "Zumg3znNJ_B1"
      }
    },
    {
      "cell_type": "code",
      "source": [
        "def slice_tuple(input_tuple, start_index, end_index):\n",
        "    return input_tuple[start_index:end_index]\n",
        "original_tuple = (10, 20, 30, 40, 50)\n",
        "start = 1\n",
        "end = 4\n",
        "new_tuple = slice_tuple(original_tuple, start, end)\n",
        "print(new_tuple)"
      ],
      "metadata": {
        "id": "JuZ3e1DgKU9r"
      },
      "execution_count": null,
      "outputs": []
    },
    {
      "cell_type": "markdown",
      "source": [
        "26. Write a code that prompts the user to input two sets of characters. Then, print the union of these two sets."
      ],
      "metadata": {
        "id": "6VkLyJxSL1Lu"
      }
    },
    {
      "cell_type": "code",
      "source": [
        "s1=set(input(\"Enter the first set of  characters:\"))\n",
        "s2=set(input(\"Enter the second set of charactres:\"))\n",
        "set(s1.union(s2))"
      ],
      "metadata": {
        "colab": {
          "base_uri": "https://localhost:8080/"
        },
        "id": "mrpykeiHL4is",
        "outputId": "4e494040-0dd4-4eb1-a49a-c48e598280f9"
      },
      "execution_count": null,
      "outputs": [
        {
          "name": "stdout",
          "output_type": "stream",
          "text": [
            "Enter the first set of  characters:{1,1,2,2,3}\n",
            "Enter the second set of charactres:{}2,2,4,4,6|\n"
          ]
        },
        {
          "output_type": "execute_result",
          "data": {
            "text/plain": [
              "{',', '1', '2', '3', '4', '6', '{', '|', '}'}"
            ]
          },
          "metadata": {},
          "execution_count": 45
        }
      ]
    },
    {
      "cell_type": "markdown",
      "source": [
        "27. Develop a code that takes a tuple of integers as input. The function should return the maximum and minimum values from the tuple using tuple unpacking."
      ],
      "metadata": {
        "id": "KeEjjNPGK9Bs"
      }
    },
    {
      "cell_type": "code",
      "source": [
        "def find_max_min(values):\n",
        "    max_value, min_value = max(values), min(values)\n",
        "    return max_value, min_value\n",
        "\n",
        "user_input_str = input(\"Enter a tuple of integers: \")\n",
        "user_input_list = user_input_str.strip('()').split(',')\n",
        "user_input = tuple(map(int, [num.strip() for num in user_input_list]))\n",
        "\n",
        "max_val, min_val = find_max_min(user_input)\n",
        "\n",
        "print(\"The maximum value is:\", max_val)\n",
        "print(\"The minimum value is:\", min_val)"
      ],
      "metadata": {
        "colab": {
          "base_uri": "https://localhost:8080/"
        },
        "id": "cp0qp38mMkKr",
        "outputId": "d907acf8-8c55-41d9-985d-33e791759082"
      },
      "execution_count": null,
      "outputs": [
        {
          "output_type": "stream",
          "name": "stdout",
          "text": [
            "Enter a tuple of integers: (1,2,3,4,5,6)\n",
            "The maximum value is: 6\n",
            "The minimum value is: 1\n"
          ]
        }
      ]
    },
    {
      "cell_type": "markdown",
      "source": [
        "28. Create a code that defines two sets of integers. Then, print the union, intersection, and difference of these\n",
        "two sets."
      ],
      "metadata": {
        "id": "C3aNMU4pMve9"
      }
    },
    {
      "cell_type": "code",
      "source": [
        "s1=set(input(\"enter the first set of integers:\"))\n",
        "s2=set(input(\"enter the second set of integers:\"))\n",
        "union=s1.union(s2)\n",
        "intersection=s1.intersection(s2)\n",
        "difference=s1.difference(s2)\n",
        "print(union)\n",
        "print(intersection)\n",
        "print(difference)"
      ],
      "metadata": {
        "colab": {
          "base_uri": "https://localhost:8080/"
        },
        "id": "Hu6gUZ4uMwD8",
        "outputId": "1439d2c5-25c1-41e7-f382-1de2ab858d85"
      },
      "execution_count": null,
      "outputs": [
        {
          "output_type": "stream",
          "name": "stdout",
          "text": [
            "enter the first set of integers:{1,3,3,4,5}\n",
            "enter the second set of integers:{1,4,4,5}\n",
            "{'1', '4', '{', '5', ',', '3', '}'}\n",
            "{'1', '{', '4', '5', ',', '}'}\n",
            "{'3'}\n"
          ]
        }
      ]
    },
    {
      "cell_type": "markdown",
      "source": [
        "29. Write a code that takes a tuple and an element as input. The function should return the count of\n",
        "occurrences of the given element in the tuple."
      ],
      "metadata": {
        "id": "bbEiw1Z8P3t0"
      }
    },
    {
      "cell_type": "code",
      "source": [
        "def count_occurrences(tup, element):\n",
        "    return tup.count(element)\n",
        "\n",
        "user_input_str = input(\"Enter a tuple of integers: \")\n",
        "\n",
        "user_input_list = user_input_str.strip('()').split(',')\n",
        "\n",
        "user_input = tuple(map(int, [num.strip() for num in user_input_list]))\n",
        "\n",
        "element = int(input(\"Enter the element to count: \"))\n",
        "\n",
        "count = count_occurrences(user_input, element)\n",
        "\n",
        "print(f\"The element {element} appears {count} time(s) in the tuple.\")"
      ],
      "metadata": {
        "id": "RLNr4drCQCTL",
        "colab": {
          "base_uri": "https://localhost:8080/"
        },
        "outputId": "c3540843-cade-4899-cf1b-09ba03d049a7"
      },
      "execution_count": 2,
      "outputs": [
        {
          "output_type": "stream",
          "name": "stdout",
          "text": [
            "Enter a tuple of integers: (1,2,3,4)\n",
            "Enter the element to count: 2\n",
            "The element 2 appears 1 time(s) in the tuple.\n"
          ]
        }
      ]
    },
    {
      "cell_type": "markdown",
      "source": [
        "30. Develop a code that prompts the user to input two sets of strings. Then, print the symmetric difference of\n",
        "these two sets."
      ],
      "metadata": {
        "id": "UCsve2r1R2eA"
      }
    },
    {
      "cell_type": "code",
      "source": [
        "set1 = set(input(\"Enter the first set of strings, separated by space: \").split())\n",
        "\n",
        "set2 = set(input(\"Enter the second set of strings, separated by space: \").split())\n",
        "\n",
        "symmetric_difference = set1.symmetric_difference(set2)\n",
        "\n",
        "print(\"Symmetric difference of the two sets:\", symmetric_difference)"
      ],
      "metadata": {
        "id": "xXGRnoCvQgqu",
        "colab": {
          "base_uri": "https://localhost:8080/"
        },
        "outputId": "b772d3d9-d60a-4800-94b8-a7928637f7dd"
      },
      "execution_count": 3,
      "outputs": [
        {
          "output_type": "stream",
          "name": "stdout",
          "text": [
            "Enter the first set of strings, separated by space: {\"ram\",\"shyam\"}\n",
            "Enter the second set of strings, separated by space: {\"gita\",'sita'}\n",
            "Symmetric difference of the two sets: {'{\"gita\",\\'sita\\'}', '{\"ram\",\"shyam\"}'}\n"
          ]
        }
      ]
    },
    {
      "cell_type": "markdown",
      "source": [
        "31.  Write a code that takes a list of words as input and returns a dictionary where the keys are unique words\n",
        "and the values are the frequencies of those words in the input list."
      ],
      "metadata": {
        "id": "51R2GquzSK9q"
      }
    },
    {
      "cell_type": "code",
      "source": [
        "words = input(\"Enter a list of words: \").split()\n",
        "\n",
        "word_frequency = {}\n",
        "\n",
        "for word in words:\n",
        "    if word in word_frequency:\n",
        "        word_frequency[word] += 1\n",
        "    else:\n",
        "        word_frequency[word] = 1\n",
        "\n",
        "print(\"Word frequency dictionary:\", word_frequency)"
      ],
      "metadata": {
        "colab": {
          "base_uri": "https://localhost:8080/"
        },
        "id": "5inBrlJUSVF6",
        "outputId": "cf757219-b2e5-415b-b16b-f4d023a54dd4"
      },
      "execution_count": 4,
      "outputs": [
        {
          "output_type": "stream",
          "name": "stdout",
          "text": [
            "Enter a list of words, separated by space: [ram,sita,gita]\n",
            "Word frequency dictionary: {'[ram,sita,gita]': 1}\n"
          ]
        }
      ]
    },
    {
      "cell_type": "markdown",
      "source": [
        "32.  Write a code that takes two dictionaries as input and merges them into a single dictionary. If there are common keys, the values should be added together."
      ],
      "metadata": {
        "id": "jwOwYWuhCuHA"
      }
    },
    {
      "cell_type": "code",
      "source": [
        "def merge_dictionaries(dict1, dict2):\n",
        "\n",
        "    merged_dict = dict1.copy()\n",
        "\n",
        "    for key, value in dict2.items():\n",
        "        if key in merged_dict:\n",
        "            merged_dict[key] += value\n",
        "        else:\n",
        "            merged_dict[key] = value\n",
        "\n",
        "    return merged_dict"
      ],
      "metadata": {
        "id": "3_gxwAnssaOd"
      },
      "execution_count": null,
      "outputs": []
    },
    {
      "cell_type": "code",
      "source": [
        "dict1 = {'a': 1, 'b': 2, 'c': 3}\n",
        "dict2 = {'b': 3, 'c': 4, 'd': 5}\n",
        "\n",
        "merged_result = merge_dictionaries(dict1, dict2)\n",
        "print(merged_result)"
      ],
      "metadata": {
        "id": "MH0Lw9sptZP0",
        "colab": {
          "base_uri": "https://localhost:8080/"
        },
        "outputId": "64a38dd3-e330-4cd1-aa77-2f794bc1f530"
      },
      "execution_count": null,
      "outputs": [
        {
          "output_type": "stream",
          "name": "stdout",
          "text": [
            "{'a': 1, 'b': 5, 'c': 7, 'd': 5}\n"
          ]
        }
      ]
    },
    {
      "cell_type": "markdown",
      "source": [
        "33. Write a code to access a value in a nested dictionary. The function should take the dictionary and a list of\n",
        "keys as input, and return the corresponding value. If any of the keys do not exist in the dictionary, the\n",
        "function should return None."
      ],
      "metadata": {
        "id": "sy0u2R6oDYJL"
      }
    },
    {
      "cell_type": "code",
      "source": [
        "def access_nested_value(nested_dict, keys):\n",
        "    current = nested_dict\n",
        "    for key in keys:\n",
        "        if isinstance(current, dict) and key in current:\n",
        "            current = current[key]\n",
        "        else:\n",
        "            return None\n",
        "    return current"
      ],
      "metadata": {
        "id": "I37s7HxtDLIY"
      },
      "execution_count": null,
      "outputs": []
    },
    {
      "cell_type": "code",
      "source": [
        "nested_dict = {\n",
        "    'a': {\n",
        "        'b': {\n",
        "            'c': 42\n",
        "        },\n",
        "        'd': 7\n",
        "    }\n",
        "}\n",
        "\n",
        "keys = ['a', 'b', 'c']\n",
        "print(access_nested_value(nested_dict, keys))\n",
        "\n",
        "keys = ['a', 'x', 'y']\n",
        "print(access_nested_value(nested_dict, keys))"
      ],
      "metadata": {
        "colab": {
          "base_uri": "https://localhost:8080/"
        },
        "id": "j7_mBKExDpV7",
        "outputId": "9777e58d-50ac-4a4c-926d-42b3e9acc3a4"
      },
      "execution_count": null,
      "outputs": [
        {
          "output_type": "stream",
          "name": "stdout",
          "text": [
            "42\n",
            "None\n"
          ]
        }
      ]
    },
    {
      "cell_type": "markdown",
      "source": [
        "34. Write a code that takes a dictionary as input and returns a sorted version of it based on the values. You\n",
        "can choose whether to sort in ascending or descending order."
      ],
      "metadata": {
        "id": "1R3d2-w0D0_B"
      }
    },
    {
      "cell_type": "code",
      "source": [
        "def sort_dict_by_values(input_dict, ascending=True):\n",
        "    sorted_items = sorted(input_dict.items(), key=lambda item: item[1], reverse=not ascending)\n",
        "    return dict(sorted_items)\n"
      ],
      "metadata": {
        "id": "1wK4PyYmDxRn"
      },
      "execution_count": null,
      "outputs": []
    },
    {
      "cell_type": "code",
      "source": [
        "example_dict = {'a': 3, 'b': 1, 'c': 2}\n",
        "sorted_dict_asc = sort_dict_by_values(example_dict, ascending=True)\n",
        "print(\"Ascending:\", sorted_dict_asc)\n",
        "\n",
        "sorted_dict_desc = sort_dict_by_values(example_dict, ascending=False)\n",
        "print(\"Descending:\", sorted_dict_desc)"
      ],
      "metadata": {
        "colab": {
          "base_uri": "https://localhost:8080/"
        },
        "id": "95tvLf2sEGQx",
        "outputId": "4eb5df21-369e-427d-a37e-c3e0ca5b9d2c"
      },
      "execution_count": null,
      "outputs": [
        {
          "output_type": "stream",
          "name": "stdout",
          "text": [
            "Ascending: {'b': 1, 'c': 2, 'a': 3}\n",
            "Descending: {'a': 3, 'c': 2, 'b': 1}\n"
          ]
        }
      ]
    },
    {
      "cell_type": "markdown",
      "source": [
        "35.  Write a code that inverts a dictionary, swapping keys and values. Ensure that the inverted dictionary\n",
        "correctly handles cases where multiple keys have the same value by storing the keys as a list in the\n",
        "inverted dictionary."
      ],
      "metadata": {
        "id": "ZWfRkBasEQWJ"
      }
    },
    {
      "cell_type": "code",
      "source": [
        "def invert_dictionary(input_dict):\n",
        "    inverted_dict = {}\n",
        "    for key, value in input_dict.items():\n",
        "        if value in inverted_dict:\n",
        "            inverted_dict[value].append(key)\n",
        "        else:\n",
        "            inverted_dict[value] = [key]\n",
        "    return inverted_dict"
      ],
      "metadata": {
        "id": "b5hVi6B_EKwj"
      },
      "execution_count": null,
      "outputs": []
    },
    {
      "cell_type": "code",
      "source": [
        "example_dict = {'a': 1, 'b': 2, 'c': 1, 'd': 3}\n",
        "inverted = invert_dictionary(example_dict)\n",
        "print(inverted)"
      ],
      "metadata": {
        "colab": {
          "base_uri": "https://localhost:8080/"
        },
        "id": "vsd0BJjUEZiE",
        "outputId": "64636546-4b93-42ad-db5b-a4d2694ceb43"
      },
      "execution_count": null,
      "outputs": [
        {
          "output_type": "stream",
          "name": "stdout",
          "text": [
            "{1: ['a', 'c'], 2: ['b'], 3: ['d']}\n"
          ]
        }
      ]
    },
    {
      "cell_type": "code",
      "source": [],
      "metadata": {
        "id": "WacYmWUvEb15"
      },
      "execution_count": null,
      "outputs": []
    }
  ]
}